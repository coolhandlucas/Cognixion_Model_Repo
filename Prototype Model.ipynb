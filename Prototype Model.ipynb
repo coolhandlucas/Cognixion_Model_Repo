{
 "cells": [
  {
   "cell_type": "code",
   "execution_count": 1,
   "id": "c8f9396f",
   "metadata": {},
   "outputs": [],
   "source": [
    "import re\n",
    "import unicodedata\n",
    "import string\n",
    "import random\n",
    "import nltk\n",
    "from nltk.probability import ConditionalFreqDist\n",
    "import ipywidgets as widgets\n",
    "# from ipython.display import display"
   ]
  },
  {
   "cell_type": "code",
   "execution_count": 2,
   "id": "f2cad0f7",
   "metadata": {},
   "outputs": [],
   "source": [
    "def filter(text):\n",
    "    # normalize text\n",
    "    text = (unicodedata.normalize('NFKD', text).encode('ascii', 'ignore').decode('utf-8', 'ignore'))\n",
    "    # replace html chars with ' '\n",
    "    text = re.sub('<.*?>', ' ', text)\n",
    "    # remove punctuation\n",
    "    text = text.translate(str.maketrans(' ', ' ', string.punctuation))\n",
    "    # only alphabets and numerics\n",
    "    text = re.sub('[^a-zA-Z]', ' ', text)\n",
    "    # replace newline with space\n",
    "    text = re.sub(\"\\n\", \" \", text)\n",
    "    # lower case\n",
    "    text = text.lower()\n",
    "    # split and join the words\n",
    "    text = ' '.join(text.split())\n",
    "\n",
    "    return text\n"
   ]
  },
  {
   "cell_type": "code",
   "execution_count": 3,
   "id": "7195c568",
   "metadata": {},
   "outputs": [],
   "source": [
    "def tokenize(text):\n",
    "    tokenized = nltk.word_tokenize(text)\n",
    "    lematized = nltk.stem.WordNetLemmatizer()\n",
    "    final = []\n",
    "    for words in tokenized:\n",
    "        final.append(lematized.lemmatize(words))\n",
    "    return final\n"
   ]
  },
  {
   "cell_type": "code",
   "execution_count": 4,
   "id": "81be9f9f",
   "metadata": {},
   "outputs": [],
   "source": [
    "def n_gram_model(text):\n",
    "    trigram = list(nltk.ngrams(text, 3, pad_left=True, pad_right=True, left_pad_symbol='<s>', right_pad_symbol='</s>'))\n",
    "\n",
    "    cfd = ConditionalFreqDist()\n",
    "    for w1, w2, w3 in trigram:\n",
    "        cfd[(w1, w2)][w3] += 1\n",
    "\n",
    "    for w1_w2 in cfd:\n",
    "        total_count = float(sum(cfd[w1_w2].values()))\n",
    "        for w3 in cfd[w1_w2]:\n",
    "            cfd[w1_w2][w3] /= total_count\n",
    "\n",
    "    return cfd"
   ]
  },
  {
   "cell_type": "code",
   "execution_count": 5,
   "id": "517ac5a5",
   "metadata": {},
   "outputs": [],
   "source": [
    "def predict(model, text_input):\n",
    "    text_input = filter(text_input)\n",
    "    text_input = text_input.split()\n",
    "\n",
    "    w1 = len(text_input) - 2\n",
    "    w2 = len(text_input)\n",
    "    prev_words = text_input[w1:w2]\n",
    "\n",
    "    prediction = sorted(dict(model[prev_words[0], prev_words[1]]), key=lambda x: dict(model[prev_words[0], prev_words[1]])[x], reverse=True)\n",
    "    word = []\n",
    "    weight = []\n",
    "    for key, prob in dict(model[prev_words[0], prev_words[1]]).items():\n",
    "        word.append(key)\n",
    "        weight.append(prob)\n",
    "    next_word = random.choices(word, weights=weight, k=1)\n",
    "    text_input.append(next_word[0])\n",
    "    print(' '.join(text_input))\n",
    "    print(prediction[:10])\n"
   ]
  },
  {
   "cell_type": "code",
   "execution_count": 6,
   "id": "63e32f33",
   "metadata": {},
   "outputs": [],
   "source": [
    "with open('/Users/akheels/Untitled Folder/data2.txt','r') as file:\n",
    "    text = file.read()\n",
    "\n",
    "    text_corpus = filter(text)\n",
    "    text_corpus = tokenize(text_corpus)\n",
    "    model = n_gram_model(text_corpus)"
   ]
  },
  {
   "cell_type": "code",
   "execution_count": 7,
   "id": "e0b43e38",
   "metadata": {},
   "outputs": [
    {
     "data": {
      "application/vnd.jupyter.widget-view+json": {
       "model_id": "3595621fbeaf4cb58d28985c54208f51",
       "version_major": 2,
       "version_minor": 0
      },
      "text/plain": [
       "Text(value='')"
      ]
     },
     "metadata": {},
     "output_type": "display_data"
    },
    {
     "data": {
      "application/vnd.jupyter.widget-view+json": {
       "model_id": "84c0bc59283f46f8ada6180af85aa9bc",
       "version_major": 2,
       "version_minor": 0
      },
      "text/plain": [
       "Button(description='Predict', style=ButtonStyle())"
      ]
     },
     "metadata": {},
     "output_type": "display_data"
    },
    {
     "name": "stdout",
     "output_type": "stream",
     "text": [
      "what is the\n",
      "['the', 'your', 'a', 'this', 'it', 'something', 'going', 'wrong', 'one', 'that']\n"
     ]
    }
   ],
   "source": [
    "text = widgets.Text()\n",
    "btn = widgets.Button(description = 'Predict')\n",
    "display(text, btn)\n",
    "\n",
    "def prediction(text_object):\n",
    "    predict(model, text.value)\n",
    "\n",
    "btn.on_click(prediction)"
   ]
  },
  {
   "cell_type": "code",
   "execution_count": null,
   "id": "c95d0635",
   "metadata": {},
   "outputs": [],
   "source": []
  }
 ],
 "metadata": {
  "kernelspec": {
   "display_name": "Python 3",
   "language": "python",
   "name": "python3"
  },
  "language_info": {
   "codemirror_mode": {
    "name": "ipython",
    "version": 3
   },
   "file_extension": ".py",
   "mimetype": "text/x-python",
   "name": "python",
   "nbconvert_exporter": "python",
   "pygments_lexer": "ipython3",
   "version": "3.8.2"
  }
 },
 "nbformat": 4,
 "nbformat_minor": 5
}
